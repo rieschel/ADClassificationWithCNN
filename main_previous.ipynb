{
 "cells": [
  {
   "cell_type": "code",
   "execution_count": 1,
   "metadata": {},
   "outputs": [],
   "source": [
    "import tensorflow\n",
    "import numpy as np\n",
    "from scipy.stats import chi2\n",
    "from tensorflow.keras.preprocessing.image import ImageDataGenerator\n",
    "from tensorflow.keras.preprocessing import image_dataset_from_directory\n",
    "from tensorflow.keras.models import Sequential\n",
    "from tensorflow.keras.layers import InputLayer, BatchNormalization, Dropout, Flatten, Dense, Activation, MaxPool2D, Conv2D\n",
    "from tensorflow.keras.callbacks import EarlyStopping, ModelCheckpoint\n",
    "from tensorflow.keras.applications.vgg16 import VGG16"
   ]
  },
  {
   "cell_type": "markdown",
   "metadata": {},
   "source": [
    "### CROSS VALIDATION"
   ]
  },
  {
   "cell_type": "markdown",
   "metadata": {},
   "source": [
    "#### TRAINING FEMALE"
   ]
  },
  {
   "cell_type": "code",
   "execution_count": 111,
   "metadata": {},
   "outputs": [],
   "source": [
    "train_datagen = ImageDataGenerator(rescale = 1./255,\n",
    "                                   rotation_range=30,\n",
    "                                   zoom_range=0.2,\n",
    "                                   horizontal_flip=True,\n",
    "                                   vertical_flip=True)\n",
    "\n",
    "#valid_datagen = ImageDataGenerator(rescale = 1./255)\n",
    "\n",
    "test_datagen  = ImageDataGenerator(rescale = 1./255)"
   ]
  },
  {
   "cell_type": "code",
   "execution_count": 112,
   "metadata": {},
   "outputs": [],
   "source": [
    "female_train_dir = './female train 1'\n",
    "#female_validation_dir = './female validation 5'\n",
    "female_test_dir = './female test 1'"
   ]
  },
  {
   "cell_type": "code",
   "execution_count": 113,
   "metadata": {},
   "outputs": [
    {
     "name": "stdout",
     "output_type": "stream",
     "text": [
      "Found 40 images belonging to 2 classes.\n"
     ]
    }
   ],
   "source": [
    "image_gen_test = ImageDataGenerator(rescale=1./255)\n",
    "\n",
    "female_test = image_gen_test.flow_from_directory(\n",
    "    batch_size=32, \n",
    "    directory=female_test_dir,\n",
    "    target_size=(224,224),\n",
    "    class_mode='binary',\n",
    "    shuffle=False)"
   ]
  },
  {
   "cell_type": "code",
   "execution_count": 114,
   "metadata": {},
   "outputs": [
    {
     "name": "stdout",
     "output_type": "stream",
     "text": [
      "Found 160 images belonging to 2 classes.\n",
      "Found 40 images belonging to 2 classes.\n"
     ]
    }
   ],
   "source": [
    "female_train  = train_datagen.flow_from_directory(female_train_dir,\n",
    "                                                   target_size = (224,224),\n",
    "                                                   class_mode = 'binary',\n",
    "                                                   #subset = 'training',\n",
    "                                                   batch_size = 32)\n",
    "\n",
    "# female_validation = valid_datagen.flow_from_directory(female_validation_dir,\n",
    "#                                                   target_size = (224,224),\n",
    "#                                                   class_mode = 'binary',\n",
    "#                                                   #subset = 'validation',\n",
    "#                                                   batch_size = 32)"
   ]
  },
  {
   "cell_type": "code",
   "execution_count": 115,
   "metadata": {},
   "outputs": [],
   "source": [
    "base_model = VGG16(input_shape=(224,224,3), \n",
    "                   include_top=False,\n",
    "                   weights=\"imagenet\")"
   ]
  },
  {
   "cell_type": "code",
   "execution_count": 116,
   "metadata": {},
   "outputs": [],
   "source": [
    "for layer in base_model.layers:\n",
    "    layer.trainable=False"
   ]
  },
  {
   "cell_type": "code",
   "execution_count": 117,
   "metadata": {},
   "outputs": [],
   "source": [
    "female_model=Sequential()\n",
    "female_model.add(base_model)\n",
    "female_model.add(Dropout(0.5))\n",
    "female_model.add(Flatten())\n",
    "female_model.add(BatchNormalization())\n",
    "female_model.add(Dense(2048,kernel_initializer='he_uniform'))\n",
    "female_model.add(BatchNormalization())\n",
    "female_model.add(Activation('relu'))\n",
    "female_model.add(Dropout(0.5))\n",
    "female_model.add(Dense(1024,kernel_initializer='he_uniform'))\n",
    "female_model.add(BatchNormalization())\n",
    "female_model.add(Activation('relu'))\n",
    "female_model.add(Dropout(0.5))\n",
    "female_model.add(Dense(1,activation='sigmoid'))"
   ]
  },
  {
   "cell_type": "code",
   "execution_count": 118,
   "metadata": {},
   "outputs": [],
   "source": [
    "OPT    = tensorflow.keras.optimizers.Adam(learning_rate=0.001)\n",
    "METRIC = tensorflow.keras.metrics.AUC(name = 'auc')\n",
    "\n",
    "female_model.compile(loss='binary_crossentropy',\n",
    "              metrics=METRIC,\n",
    "              optimizer=OPT)"
   ]
  },
  {
   "cell_type": "markdown",
   "metadata": {},
   "source": [
    "#### TRAINING ALL"
   ]
  },
  {
   "cell_type": "code",
   "execution_count": 22,
   "metadata": {},
   "outputs": [],
   "source": [
    "train_datagen = ImageDataGenerator(rescale = 1./255,\n",
    "                                   rotation_range=30,\n",
    "                                   zoom_range=0.2,\n",
    "                                   #validation_split=0.2,\n",
    "                                   horizontal_flip=True,\n",
    "                                   vertical_flip=True)\n",
    "\n",
    "#valid_datagen = ImageDataGenerator(rescale = 1./255)\n",
    "\n",
    "test_datagen  = ImageDataGenerator(rescale = 1./255)"
   ]
  },
  {
   "cell_type": "code",
   "execution_count": 24,
   "metadata": {},
   "outputs": [
    {
     "name": "stdout",
     "output_type": "stream",
     "text": [
      "Found 40 images belonging to 2 classes.\n",
      "Found 128 images belonging to 2 classes.\n",
      "Found 32 images belonging to 2 classes.\n"
     ]
    }
   ],
   "source": [
    "all_train_dir = './all train 1'\n",
    "#all_validation_dir = './all train random 1'\n",
    "\n",
    "all_train  = train_datagen.flow_from_directory(all_train_dir,\n",
    "                                                   target_size = (224,224),\n",
    "                                                   class_mode = 'binary',\n",
    "                                                   subset = 'training',\n",
    "                                                   batch_size = 32)\n",
    "\n",
    "# all_validation = train_datagen.flow_from_directory(all_validation_dir,\n",
    "#                                                   target_size = (224,224),\n",
    "#                                                   class_mode = 'binary',\n",
    "#                                                   subset = 'validation',\n",
    "#                                                   batch_size = 32)\n",
    "\n",
    "base_model = VGG16(input_shape=(224,224,3), \n",
    "                   include_top=False,\n",
    "                   weights=\"imagenet\")\n",
    "\n",
    "for layer in base_model.layers:\n",
    "    layer.trainable=False\n",
    "\n",
    "all_model=Sequential()\n",
    "all_model.add(base_model)\n",
    "all_model.add(Dropout(0.5))\n",
    "all_model.add(Flatten())\n",
    "all_model.add(BatchNormalization())\n",
    "all_model.add(Dense(2048,kernel_initializer='he_uniform'))\n",
    "all_model.add(BatchNormalization())\n",
    "all_model.add(Activation('relu'))\n",
    "all_model.add(Dropout(0.5))\n",
    "all_model.add(Dense(1024,kernel_initializer='he_uniform'))\n",
    "all_model.add(BatchNormalization())\n",
    "all_model.add(Activation('relu'))\n",
    "all_model.add(Dropout(0.5))\n",
    "all_model.add(Dense(1,activation='sigmoid'))\n",
    "\n",
    "OPT    = tensorflow.keras.optimizers.Adam(learning_rate=0.001)\n",
    "METRIC = tensorflow.keras.metrics.AUC(name = 'auc')\n",
    "\n",
    "all_model.compile(loss='binary_crossentropy',\n",
    "              metrics=METRIC,\n",
    "              optimizer=OPT)"
   ]
  },
  {
   "cell_type": "markdown",
   "metadata": {},
   "source": [
    "#### TRAINING MALE"
   ]
  },
  {
   "cell_type": "code",
   "execution_count": 18,
   "metadata": {},
   "outputs": [],
   "source": [
    "train_datagen = ImageDataGenerator(rescale = 1./255,\n",
    "                                   rotation_range=30,\n",
    "                                   zoom_range=0.2,\n",
    "                                   horizontal_flip=True,\n",
    "                                   vertical_flip=True)\n",
    "\n",
    "valid_datagen = ImageDataGenerator(rescale = 1./255)\n",
    "\n",
    "test_datagen  = ImageDataGenerator(rescale = 1./255)"
   ]
  },
  {
   "cell_type": "code",
   "execution_count": null,
   "metadata": {},
   "outputs": [],
   "source": [
    "male_train_dir = './male train 1'\n",
    "male_test_dir = './male test 1'"
   ]
  },
  {
   "cell_type": "code",
   "execution_count": 19,
   "metadata": {},
   "outputs": [
    {
     "name": "stdout",
     "output_type": "stream",
     "text": [
      "Found 40 images belonging to 2 classes.\n",
      "Found 128 images belonging to 2 classes.\n",
      "Found 32 images belonging to 2 classes.\n"
     ]
    }
   ],
   "source": [
    "\n",
    "\n",
    "image_gen_test = ImageDataGenerator(rescale=1./255)\n",
    "\n",
    "male_test = image_gen_test.flow_from_directory(\n",
    "    batch_size=32, \n",
    "    directory=male_test_dir,\n",
    "    target_size=(224,224),\n",
    "    class_mode='binary',\n",
    "    shuffle=False)\n",
    "\n",
    "male_train  = train_datagen.flow_from_directory(male_train_dir,\n",
    "                                                   target_size = (224,224),\n",
    "                                                   class_mode = 'binary',\n",
    "                                                   #subset = 'training',\n",
    "                                                   batch_size = 32)\n",
    "\n",
    "# male_validation = train_datagen.flow_from_directory(male_train_dir,\n",
    "#                                                   target_size = (224,224),\n",
    "#                                                   class_mode = 'binary',\n",
    "#                                                   subset = 'validation',\n",
    "#                                                   batch_size = 32)\n",
    "\n",
    "base_model = VGG16(input_shape=(224,224,3), \n",
    "                   include_top=False,\n",
    "                   weights=\"imagenet\")\n",
    "\n",
    "for layer in base_model.layers:\n",
    "    layer.trainable=False\n",
    "\n",
    "male_model=Sequential()\n",
    "male_model.add(base_model)\n",
    "male_model.add(Dropout(0.5))\n",
    "male_model.add(Flatten())\n",
    "male_model.add(BatchNormalization())\n",
    "male_model.add(Dense(2048,kernel_initializer='he_uniform'))\n",
    "male_model.add(BatchNormalization())\n",
    "male_model.add(Activation('relu'))\n",
    "male_model.add(Dropout(0.5))\n",
    "male_model.add(Dense(1024,kernel_initializer='he_uniform'))\n",
    "male_model.add(BatchNormalization())\n",
    "male_model.add(Activation('relu'))\n",
    "male_model.add(Dropout(0.5))\n",
    "male_model.add(Dense(1,activation='sigmoid'))\n",
    "\n",
    "OPT    = tensorflow.keras.optimizers.Adam(learning_rate=0.001)\n",
    "METRIC = tensorflow.keras.metrics.AUC(name = 'auc')\n",
    "\n",
    "male_model.compile(loss='binary_crossentropy',\n",
    "              metrics=METRIC,\n",
    "              optimizer=OPT)"
   ]
  },
  {
   "cell_type": "markdown",
   "metadata": {},
   "source": [
    "#### COMPARE MODELS"
   ]
  },
  {
   "cell_type": "code",
   "execution_count": 1,
   "metadata": {},
   "outputs": [],
   "source": [
    "p_female_on_female = []\n",
    "p_female_on_male = []\n",
    "p_male_on_male = []\n",
    "p_male_on_female = []\n",
    "p_all_on_female = []\n",
    "p_all_on_male = []\n",
    "p_female = []\n",
    "p_male = []"
   ]
  },
  {
   "cell_type": "code",
   "execution_count": null,
   "metadata": {},
   "outputs": [],
   "source": [
    "male_model.fit(male_train, epochs = 50, verbose = 1)\n"
   ]
  },
  {
   "cell_type": "code",
   "execution_count": null,
   "metadata": {},
   "outputs": [],
   "source": [
    "all_model.fit(all_train, epochs = 50, verbose = 1)"
   ]
  },
  {
   "cell_type": "code",
   "execution_count": null,
   "metadata": {},
   "outputs": [],
   "source": [
    "female_model.fit(female_train, epochs = 50, verbose = 1)"
   ]
  },
  {
   "cell_type": "code",
   "execution_count": null,
   "metadata": {},
   "outputs": [],
   "source": [
    "test_dir = \"./female test 1\"\n",
    "image_gen_test = ImageDataGenerator(rescale=1./255)\n",
    "\n",
    "female_test = image_gen_test.flow_from_directory(\n",
    "    batch_size=32, \n",
    "    directory=test_dir,\n",
    "    target_size=(224,224),\n",
    "    class_mode='binary',\n",
    "    shuffle=False)\n",
    "\n",
    "test_dir = \"./male test 1\"\n",
    "image_gen_test = ImageDataGenerator(rescale=1./255)\n",
    "\n",
    "male_test = image_gen_test.flow_from_directory(\n",
    "    batch_size=32, \n",
    "    directory=test_dir,\n",
    "    target_size=(224,224),\n",
    "    class_mode='binary',\n",
    "    shuffle=False)"
   ]
  },
  {
   "cell_type": "code",
   "execution_count": null,
   "metadata": {},
   "outputs": [],
   "source": [
    "acc1 = male_model.evaluate(male_test)[1]\n",
    "acc2 = male_model.evaluate(female_test)[1]\n",
    "\n",
    "p_male_on_male.append(acc1)\n",
    "p_male_on_female.append(acc2)\n"
   ]
  },
  {
   "cell_type": "code",
   "execution_count": null,
   "metadata": {},
   "outputs": [],
   "source": [
    "acc3 = female_model.evaluate(female_test)[1]\n",
    "acc4 = female_model.evaluate(male_test)[1]\n",
    "\n",
    "p_female_on_female.append(acc3)\n",
    "p_female_on_male.append(acc4)"
   ]
  },
  {
   "cell_type": "code",
   "execution_count": null,
   "metadata": {},
   "outputs": [],
   "source": [
    "acc5 = all_model.evaluate(female_test)[1]\n",
    "acc6 = all_model.evaluate(male_test)[1]\n",
    "\n",
    "p_all_on_female.append(acc5)\n",
    "p_all_on_male.append(acc6)\n",
    "\n",
    "p_female.append(acc3 - acc5)\n",
    "p_male.append(acc1 - acc6)"
   ]
  },
  {
   "cell_type": "code",
   "execution_count": 4,
   "metadata": {},
   "outputs": [],
   "source": [
    "from scipy.stats import t as t_dist\n",
    "def paired_t_test(p):\n",
    "    p_hat = np.mean(p)\n",
    "    n = len(p)\n",
    "    den = np.sqrt(sum([(diff - p_hat)**2 for diff in p]) / (n - 1))\n",
    "    t = (p_hat * (n**(1/2))) / den\n",
    "    \n",
    "    p_value = t_dist.sf(t, n-1)*2\n",
    "    \n",
    "    return t, p_value"
   ]
  },
  {
   "cell_type": "code",
   "execution_count": 9,
   "metadata": {},
   "outputs": [
    {
     "name": "stdout",
     "output_type": "stream",
     "text": [
      "Paired t-test Resampled\n",
      "t statistic: 4.180886087919598, p-value: 0.013908357591344839\n",
      "\n"
     ]
    }
   ],
   "source": [
    "print(\"Paired t-test Resampled\")\n",
    "t, p = paired_t_test(p_female)\n",
    "print(f\"t statistic: {t}, p-value: {p}\\n\")"
   ]
  }
 ],
 "metadata": {
  "interpreter": {
   "hash": "c59810906e6d7aa3495883ae607e78021713f6d585e5acf2953d8206f84212a4"
  },
  "kernelspec": {
   "display_name": "Python 3.9.10 64-bit",
   "language": "python",
   "name": "python3"
  },
  "language_info": {
   "codemirror_mode": {
    "name": "ipython",
    "version": 3
   },
   "file_extension": ".py",
   "mimetype": "text/x-python",
   "name": "python",
   "nbconvert_exporter": "python",
   "pygments_lexer": "ipython3",
   "version": "3.9.10"
  },
  "orig_nbformat": 4
 },
 "nbformat": 4,
 "nbformat_minor": 2
}
