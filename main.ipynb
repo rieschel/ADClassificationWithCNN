{
 "cells": [
  {
   "cell_type": "code",
   "execution_count": null,
   "metadata": {},
   "outputs": [],
   "source": [
    "import tensorflow\n",
    "import numpy as np\n",
    "from scipy.stats import chi2\n",
    "from tensorflow.keras.preprocessing.image import ImageDataGenerator\n",
    "from tensorflow.keras.preprocessing import image_dataset_from_directory\n",
    "from tensorflow.keras.models import Sequential\n",
    "from tensorflow.keras.layers import InputLayer, BatchNormalization, Dropout, Flatten, Dense, Activation, MaxPool2D, Conv2D\n",
    "from tensorflow.keras.callbacks import EarlyStopping, ModelCheckpoint\n",
    "from tensorflow.keras.applications.vgg16 import VGG16"
   ]
  },
  {
   "cell_type": "code",
   "execution_count": null,
   "metadata": {},
   "outputs": [],
   "source": [
    "train_datagen = ImageDataGenerator(rescale = 1./255,\n",
    "                                   rotation_range=30,\n",
    "                                   zoom_range=0.2,\n",
    "                                   #validation_split=0.2,\n",
    "                                   horizontal_flip=True,\n",
    "                                   vertical_flip=True)\n",
    "\n",
    "valid_datagen = ImageDataGenerator(rescale = 1./255)\n",
    "\n",
    "test_datagen  = ImageDataGenerator(rescale = 1./255)"
   ]
  },
  {
   "cell_type": "code",
   "execution_count": null,
   "metadata": {},
   "outputs": [],
   "source": [
    "male_train_dir = './new data/resized2/Group 5'\n",
    "male_test_dir = './new data/resized2/Test 5'"
   ]
  },
  {
   "cell_type": "code",
   "execution_count": null,
   "metadata": {},
   "outputs": [],
   "source": [
    "image_gen_test = ImageDataGenerator(rescale=1./255)\n",
    "\n",
    "male_test = image_gen_test.flow_from_directory(\n",
    "    batch_size=32, \n",
    "    directory=male_test_dir,\n",
    "    target_size=(224,224),\n",
    "    class_mode='binary',\n",
    "    shuffle=False)\n",
    "\n",
    "male_train  = train_datagen.flow_from_directory(male_train_dir,\n",
    "                                                   target_size = (224,224),\n",
    "                                                   class_mode = 'binary',\n",
    "                                                   batch_size = 32)\n",
    "\n",
    "base_model = VGG16(input_shape=(224,224,3), \n",
    "                   include_top=False,\n",
    "                   weights=\"imagenet\")\n",
    "\n",
    "for layer in base_model.layers:\n",
    "    layer.trainable=False\n",
    "\n",
    "male_model=Sequential()\n",
    "male_model.add(base_model)\n",
    "male_model.add(Dropout(0.5))\n",
    "male_model.add(Flatten())\n",
    "male_model.add(BatchNormalization())\n",
    "male_model.add(Dense(2048,kernel_initializer='he_uniform'))\n",
    "male_model.add(BatchNormalization())\n",
    "male_model.add(Activation('relu'))\n",
    "male_model.add(Dropout(0.5))\n",
    "male_model.add(Dense(1024,kernel_initializer='he_uniform'))\n",
    "male_model.add(BatchNormalization())\n",
    "male_model.add(Activation('relu'))\n",
    "male_model.add(Dropout(0.5))\n",
    "male_model.add(Dense(1,activation='sigmoid'))\n",
    "\n",
    "OPT    = tensorflow.keras.optimizers.Adam(learning_rate=0.001)\n",
    "\n",
    "male_model.compile(loss='binary_crossentropy',\n",
    "              metrics=['accuracy'],\n",
    "              optimizer=OPT)"
   ]
  },
  {
   "cell_type": "code",
   "execution_count": null,
   "metadata": {},
   "outputs": [],
   "source": [
    "image_gen_test = ImageDataGenerator(rescale=1./255)\n",
    "\n",
    "male_test = image_gen_test.flow_from_directory(\n",
    "    batch_size=32, \n",
    "    directory=male_test_dir,\n",
    "    target_size=(224,224),\n",
    "    class_mode='binary',\n",
    "    shuffle=False)\n",
    "\n",
    "male_train  = train_datagen.flow_from_directory(male_train_dir,\n",
    "                                                   target_size = (224,224),\n",
    "                                                   class_mode = 'binary',\n",
    "                                                   batch_size = 32)\n",
    "\n",
    "base_model = VGG16(input_shape=(224,224,3), \n",
    "                   include_top=False,\n",
    "                   weights=\"imagenet\")\n",
    "\n",
    "for layer in base_model.layers:\n",
    "    layer.trainable=False\n",
    "\n",
    "male_model_1=Sequential()\n",
    "male_model_1.add(base_model)\n",
    "male_model_1.add(Dropout(0.5))\n",
    "male_model_1.add(Flatten())\n",
    "male_model_1.add(BatchNormalization())\n",
    "male_model_1.add(Dense(2048,kernel_initializer='he_uniform'))\n",
    "male_model_1.add(BatchNormalization())\n",
    "male_model_1.add(Activation('relu'))\n",
    "male_model_1.add(Dropout(0.5))\n",
    "male_model_1.add(Dense(1024,kernel_initializer='he_uniform'))\n",
    "male_model_1.add(BatchNormalization())\n",
    "male_model_1.add(Activation('relu'))\n",
    "male_model_1.add(Dropout(0.5))\n",
    "male_model_1.add(Dense(1,activation='sigmoid'))\n",
    "\n",
    "OPT    = tensorflow.keras.optimizers.Adam(learning_rate=0.001)\n",
    "\n",
    "male_model_1.compile(loss='binary_crossentropy',\n",
    "              metrics=['accuracy'],\n",
    "              optimizer=OPT)"
   ]
  },
  {
   "cell_type": "code",
   "execution_count": null,
   "metadata": {},
   "outputs": [],
   "source": [
    "image_gen_test = ImageDataGenerator(rescale=1./255)\n",
    "\n",
    "male_test = image_gen_test.flow_from_directory(\n",
    "    batch_size=32, \n",
    "    directory=male_test_dir,\n",
    "    target_size=(224,224),\n",
    "    class_mode='binary',\n",
    "    shuffle=False)\n",
    "\n",
    "male_train  = train_datagen.flow_from_directory(male_train_dir,\n",
    "                                                   target_size = (224,224),\n",
    "                                                   class_mode = 'binary',\n",
    "                                                   batch_size = 32)\n",
    "\n",
    "base_model = VGG16(input_shape=(224,224,3), \n",
    "                   include_top=False,\n",
    "                   weights=\"imagenet\")\n",
    "\n",
    "for layer in base_model.layers:\n",
    "    layer.trainable=False\n",
    "\n",
    "male_model_2=Sequential()\n",
    "male_model_2.add(base_model)\n",
    "male_model_2.add(Dropout(0.5))\n",
    "male_model_2.add(Flatten())\n",
    "male_model_2.add(BatchNormalization())\n",
    "male_model_2.add(Dense(2048,kernel_initializer='he_uniform'))\n",
    "male_model_2.add(BatchNormalization())\n",
    "male_model_2.add(Activation('relu'))\n",
    "male_model_2.add(Dropout(0.5))\n",
    "male_model_2.add(Dense(1024,kernel_initializer='he_uniform'))\n",
    "male_model_2.add(BatchNormalization())\n",
    "male_model_2.add(Activation('relu'))\n",
    "male_model_2.add(Dropout(0.5))\n",
    "male_model_2.add(Dense(1,activation='sigmoid'))\n",
    "\n",
    "OPT    = tensorflow.keras.optimizers.Adam(learning_rate=0.001)\n",
    "\n",
    "male_model_2.compile(loss='binary_crossentropy',\n",
    "              metrics=['accuracy'],\n",
    "              optimizer=OPT)"
   ]
  },
  {
   "cell_type": "code",
   "execution_count": null,
   "metadata": {},
   "outputs": [],
   "source": [
    "image_gen_test = ImageDataGenerator(rescale=1./255)\n",
    "\n",
    "male_test = image_gen_test.flow_from_directory(\n",
    "    batch_size=32, \n",
    "    directory=male_test_dir,\n",
    "    target_size=(224,224),\n",
    "    class_mode='binary',\n",
    "    shuffle=False)\n",
    "\n",
    "male_train  = train_datagen.flow_from_directory(male_train_dir,\n",
    "                                                   target_size = (224,224),\n",
    "                                                   class_mode = 'binary',\n",
    "                                                   batch_size = 32)\n",
    "\n",
    "base_model = VGG16(input_shape=(224,224,3), \n",
    "                   include_top=False,\n",
    "                   weights=\"imagenet\")\n",
    "\n",
    "for layer in base_model.layers:\n",
    "    layer.trainable=False\n",
    "\n",
    "male_model_3=Sequential()\n",
    "male_model_3.add(base_model)\n",
    "male_model_3.add(Dropout(0.5))\n",
    "male_model_3.add(Flatten())\n",
    "male_model_3.add(BatchNormalization())\n",
    "male_model_3.add(Dense(2048,kernel_initializer='he_uniform'))\n",
    "male_model_3.add(BatchNormalization())\n",
    "male_model_3.add(Activation('relu'))\n",
    "male_model_3.add(Dropout(0.5))\n",
    "male_model_3.add(Dense(1024,kernel_initializer='he_uniform'))\n",
    "male_model_3.add(BatchNormalization())\n",
    "male_model_3.add(Activation('relu'))\n",
    "male_model_3.add(Dropout(0.5))\n",
    "male_model_3.add(Dense(1,activation='sigmoid'))\n",
    "\n",
    "OPT    = tensorflow.keras.optimizers.Adam(learning_rate=0.001)\n",
    "\n",
    "male_model_3.compile(loss='binary_crossentropy',\n",
    "              metrics=['accuracy'],\n",
    "              optimizer=OPT)"
   ]
  },
  {
   "cell_type": "code",
   "execution_count": null,
   "metadata": {},
   "outputs": [],
   "source": [
    "image_gen_test = ImageDataGenerator(rescale=1./255)\n",
    "\n",
    "male_test = image_gen_test.flow_from_directory(\n",
    "    batch_size=32, \n",
    "    directory=male_test_dir,\n",
    "    target_size=(224,224),\n",
    "    class_mode='binary',\n",
    "    shuffle=False)\n",
    "\n",
    "male_train  = train_datagen.flow_from_directory(male_train_dir,\n",
    "                                                   target_size = (224,224),\n",
    "                                                   class_mode = 'binary',\n",
    "                                                   batch_size = 32)\n",
    "\n",
    "base_model = VGG16(input_shape=(224,224,3), \n",
    "                   include_top=False,\n",
    "                   weights=\"imagenet\")\n",
    "\n",
    "for layer in base_model.layers:\n",
    "    layer.trainable=False\n",
    "\n",
    "male_model_4=Sequential()\n",
    "male_model_4.add(base_model)\n",
    "male_model_4.add(Dropout(0.5))\n",
    "male_model_4.add(Flatten())\n",
    "male_model_4.add(BatchNormalization())\n",
    "male_model_4.add(Dense(2048,kernel_initializer='he_uniform'))\n",
    "male_model_4.add(BatchNormalization())\n",
    "male_model_4.add(Activation('relu'))\n",
    "male_model_4.add(Dropout(0.5))\n",
    "male_model_4.add(Dense(1024,kernel_initializer='he_uniform'))\n",
    "male_model_4.add(BatchNormalization())\n",
    "male_model_4.add(Activation('relu'))\n",
    "male_model_4.add(Dropout(0.5))\n",
    "male_model_4.add(Dense(1,activation='sigmoid'))\n",
    "\n",
    "OPT    = tensorflow.keras.optimizers.Adam(learning_rate=0.001)\n",
    "\n",
    "male_model_4.compile(loss='binary_crossentropy',\n",
    "              metrics=['accuracy'],\n",
    "              optimizer=OPT)"
   ]
  },
  {
   "cell_type": "code",
   "execution_count": null,
   "metadata": {},
   "outputs": [],
   "source": [
    "male_model_4.fit(male_train, epochs = 50, verbose = 1)"
   ]
  },
  {
   "cell_type": "code",
   "execution_count": null,
   "metadata": {},
   "outputs": [],
   "source": [
    "male_model_3.fit(male_train, epochs = 50, verbose = 1)"
   ]
  },
  {
   "cell_type": "code",
   "execution_count": null,
   "metadata": {},
   "outputs": [],
   "source": [
    "male_model_2.fit(male_train, epochs = 50, verbose = 1)"
   ]
  },
  {
   "cell_type": "code",
   "execution_count": null,
   "metadata": {},
   "outputs": [],
   "source": [
    "male_model_1.fit(male_train, epochs = 50, verbose = 1)"
   ]
  },
  {
   "cell_type": "code",
   "execution_count": null,
   "metadata": {},
   "outputs": [],
   "source": [
    "male_model.fit(male_train, epochs = 50, verbose = 1)"
   ]
  },
  {
   "cell_type": "code",
   "execution_count": null,
   "metadata": {},
   "outputs": [],
   "source": [
    "y_pred = male_model_1.predict(male_test)\n",
    "y_pred = np.where(y_pred>0.5, 1, 0)\n",
    "from sklearn.metrics import confusion_matrix, classification_report\n",
    "cm = confusion_matrix(male_test.classes, y_pred)\n",
    "print(cm)\n",
    "print(classification_report(male_test.classes, y_pred))"
   ]
  },
  {
   "cell_type": "code",
   "execution_count": null,
   "metadata": {},
   "outputs": [],
   "source": [
    "acc1 = male_model.evaluate(male_test)[1]"
   ]
  },
  {
   "cell_type": "code",
   "execution_count": null,
   "metadata": {},
   "outputs": [],
   "source": [
    "acc2 = male_model_1.evaluate(male_test)[1]"
   ]
  },
  {
   "cell_type": "code",
   "execution_count": null,
   "metadata": {},
   "outputs": [],
   "source": [
    "acc3 = male_model_2.evaluate(male_test)[1]"
   ]
  },
  {
   "cell_type": "code",
   "execution_count": null,
   "metadata": {},
   "outputs": [],
   "source": [
    "acc4 = male_model_3.evaluate(male_test)[1]"
   ]
  },
  {
   "cell_type": "code",
   "execution_count": null,
   "metadata": {},
   "outputs": [],
   "source": [
    "acc5 = male_model_4.evaluate(male_test)[1]"
   ]
  },
  {
   "cell_type": "code",
   "execution_count": null,
   "metadata": {},
   "outputs": [],
   "source": [
    "female_train_dir = './new data female/resized/Group 1'\n",
    "female_test_dir = './new data female/resized/Test 1'\n",
    "\n",
    "image_gen_test = ImageDataGenerator(rescale=1./255)\n",
    "\n",
    "female_test = image_gen_test.flow_from_directory(\n",
    "    batch_size=32, \n",
    "    directory=female_test_dir,\n",
    "    target_size=(224,224),\n",
    "    class_mode='binary',\n",
    "    shuffle=False)\n",
    "\n",
    "female_train  = train_datagen.flow_from_directory(female_train_dir,\n",
    "                                                   target_size = (224,224),\n",
    "                                                   class_mode = 'binary',\n",
    "                                                   batch_size = 32)\n",
    "\n",
    "base_model = VGG16(input_shape=(224,224,3), \n",
    "                   include_top=False,\n",
    "                   weights=\"imagenet\")\n",
    "\n",
    "for layer in base_model.layers:\n",
    "    layer.trainable=False\n",
    "\n",
    "female_model=Sequential()\n",
    "female_model.add(base_model)\n",
    "female_model.add(Dropout(0.5))\n",
    "female_model.add(Flatten())\n",
    "female_model.add(BatchNormalization())\n",
    "female_model.add(Dense(2048,kernel_initializer='he_uniform'))\n",
    "female_model.add(BatchNormalization())\n",
    "female_model.add(Activation('relu'))\n",
    "female_model.add(Dropout(0.5))\n",
    "female_model.add(Dense(1024,kernel_initializer='he_uniform'))\n",
    "female_model.add(BatchNormalization())\n",
    "female_model.add(Activation('relu'))\n",
    "female_model.add(Dropout(0.5))\n",
    "female_model.add(Dense(1,activation='sigmoid'))\n",
    "\n",
    "OPT    = tensorflow.keras.optimizers.Adam(learning_rate=0.001)\n",
    "\n",
    "female_model.compile(loss='binary_crossentropy',\n",
    "              metrics=['accuracy'],\n",
    "              optimizer=OPT)"
   ]
  },
  {
   "cell_type": "code",
   "execution_count": null,
   "metadata": {},
   "outputs": [],
   "source": [
    "female_model.fit(female_train, epochs = 50, verbose = 1)"
   ]
  },
  {
   "cell_type": "code",
   "execution_count": null,
   "metadata": {},
   "outputs": [],
   "source": [
    "acc_on_male_test = female_model.evaluate(male_test)[1]\n",
    "acc_on_female_test = female_model.evaluate(female_test)[1]"
   ]
  },
  {
   "cell_type": "code",
   "execution_count": null,
   "metadata": {},
   "outputs": [],
   "source": [
    "p_female_on_female = []\n",
    "p_female_on_male = []"
   ]
  },
  {
   "cell_type": "code",
   "execution_count": null,
   "metadata": {},
   "outputs": [],
   "source": [
    "p_female_on_female.append(acc_on_female_test)\n",
    "p_female_on_male.append(acc_on_male_test)"
   ]
  },
  {
   "cell_type": "code",
   "execution_count": null,
   "metadata": {},
   "outputs": [],
   "source": [
    "y_pred = female_model.predict(male_test)\n",
    "y_pred = np.where(y_pred>0.5, 1, 0)\n",
    "from sklearn.metrics import confusion_matrix, plot_confusion_matrix\n",
    "cm = confusion_matrix(male_test.classes, y_pred)\n",
    "print(cm)\n",
    "print(classification_report(male_test.classes, y_pred))"
   ]
  },
  {
   "cell_type": "code",
   "execution_count": null,
   "metadata": {},
   "outputs": [],
   "source": [
    "all_train_dir = './new data all/version 2/Group 4'\n",
    "male_test_dir = './new data/resized2/Test 4'\n",
    "\n",
    "image_gen_test = ImageDataGenerator(rescale=1./255)\n",
    "\n",
    "male_test = image_gen_test.flow_from_directory(\n",
    "    batch_size=32, \n",
    "    directory=male_test_dir,\n",
    "    target_size=(224,224),\n",
    "    class_mode='binary',\n",
    "    shuffle=False)\n",
    "\n",
    "all_train  = train_datagen.flow_from_directory(all_train_dir,\n",
    "                                                   target_size = (224,224),\n",
    "                                                   class_mode = 'binary',\n",
    "                                                   batch_size = 32)\n",
    "\n",
    "base_model = VGG16(input_shape=(224,224,3), \n",
    "                   include_top=False,\n",
    "                   weights=\"imagenet\")\n",
    "\n",
    "for layer in base_model.layers:\n",
    "    layer.trainable=False\n",
    "\n",
    "all_model_1=Sequential()\n",
    "all_model_1.add(base_model)\n",
    "\n",
    "all_model_1.add(Dropout(0.5))\n",
    "all_model_1.add(Flatten())\n",
    "all_model_1.add(BatchNormalization())\n",
    "all_model_1.add(Dense(2048,kernel_initializer='he_uniform'))\n",
    "all_model_1.add(BatchNormalization())\n",
    "all_model_1.add(Activation('relu'))\n",
    "all_model_1.add(Dropout(0.5))\n",
    "all_model_1.add(Dense(1024,kernel_initializer='he_uniform'))\n",
    "all_model_1.add(BatchNormalization())\n",
    "all_model_1.add(Activation('relu'))\n",
    "all_model_1.add(Dropout(0.5))\n",
    "all_model_1.add(Dense(1,activation='sigmoid'))\n",
    "\n",
    "OPT    = tensorflow.keras.optimizers.Adam(learning_rate=0.001)\n",
    "\n",
    "all_model_1.compile(loss='binary_crossentropy',\n",
    "              metrics=['accuracy'],\n",
    "              optimizer=OPT)\n",
    "\n",
    "all_model_1.fit(all_train, epochs = 50, verbose = 1)"
   ]
  },
  {
   "cell_type": "code",
   "execution_count": null,
   "metadata": {},
   "outputs": [],
   "source": [
    "p_all_on_female = []\n",
    "p_all_on_male = []"
   ]
  },
  {
   "cell_type": "code",
   "execution_count": null,
   "metadata": {},
   "outputs": [],
   "source": [
    "acc_all_1 = all_model_1.evaluate(female_test)[1]\n",
    "acc_all_2 = all_model_1.evaluate(male_test)[1]\n",
    "\n",
    "p_all_on_female.append(acc_all_1)\n",
    "p_all_on_male.append(acc_all_2)"
   ]
  },
  {
   "cell_type": "code",
   "execution_count": null,
   "metadata": {},
   "outputs": [],
   "source": [
    "y_pred = all_model_1.predict(male_test)\n",
    "y_pred = np.where(y_pred>0.5, 1, 0)\n",
    "from sklearn.metrics import confusion_matrix, classification_report\n",
    "cm = confusion_matrix(male_test.classes, y_pred)\n",
    "print(cm)\n",
    "print(classification_report(male_test.classes, y_pred))"
   ]
  },
  {
   "cell_type": "code",
   "execution_count": null,
   "metadata": {},
   "outputs": [],
   "source": [
    "y_pred = all_model_1.predict(male_test)\n",
    "y_pred = np.where(y_pred>0.5, 1, 0)\n",
    "from sklearn.metrics import confusion_matrix, plot_confusion_matrix\n",
    "cm = confusion_matrix(male_test.classes, y_pred)\n",
    "print(cm)\n",
    "print(classification_report(male_test.classes, y_pred))"
   ]
  },
  {
   "cell_type": "code",
   "execution_count": null,
   "metadata": {},
   "outputs": [],
   "source": [
    "female_test_dir = './new data female/resized/Test 1'\n",
    "\n",
    "image_gen_test = ImageDataGenerator(rescale=1./255)\n",
    "\n",
    "female_test = image_gen_test.flow_from_directory(\n",
    "    batch_size=32, \n",
    "    directory=female_test_dir,\n",
    "    target_size=(224,224),\n",
    "    class_mode='binary',\n",
    "    shuffle=False)\n",
    "\n",
    "male_test_dir = './new data/resized/Test 1'\n",
    "\n",
    "image_gen_test = ImageDataGenerator(rescale=1./255)\n",
    "\n",
    "male_test = image_gen_test.flow_from_directory(\n",
    "    batch_size=32, \n",
    "    directory=male_test_dir,\n",
    "    target_size=(224,224),\n",
    "    class_mode='binary',\n",
    "    shuffle=False)\n",
    "\n",
    "\n",
    "acc_all_femaletest_1 = all_model_1.evaluate(female_test)[1]\n",
    "acc_all_maletest_1 = all_model_1.evaluate(male_test)[1]"
   ]
  },
  {
   "cell_type": "code",
   "execution_count": null,
   "metadata": {},
   "outputs": [],
   "source": [
    "p_male_1 = 0.75-0.775\n",
    "p_male_2 = 0.65-0.75\n",
    "p_male_3 = 0.825-0.825\n",
    "p_male_4 = 0\n",
    "p_male_5 = 0\n",
    "\n",
    "p_male = []\n",
    "p_male.append(p_male_1)\n",
    "p_male.append(p_male_2)\n",
    "p_male.append(p_male_3)\n",
    "p_male.append(p_male_4)\n",
    "p_male.append(p_male_5)"
   ]
  },
  {
   "cell_type": "code",
   "execution_count": null,
   "metadata": {},
   "outputs": [],
   "source": [
    "p_female_1 = 0.825-0.75\n",
    "p_female_2 = 0.85-0.75\n",
    "p_female_3 = 0.7-0.675\n",
    "p_female_4 = 0.875-0.75\n",
    "p_female_5 = 0.75-0.75\n",
    "\n",
    "p_female = []\n",
    "p_female.append(p_female_1)\n",
    "p_female.append(p_female_2)\n",
    "p_female.append(p_female_3)\n",
    "p_female.append(p_female_4)\n",
    "p_female.append(p_female_5)"
   ]
  },
  {
   "cell_type": "code",
   "execution_count": null,
   "metadata": {},
   "outputs": [],
   "source": [
    "p_female_ad_1 = 0.8 - 0.7\n",
    "p_female_ad_2 = 0.8 - 0.65\n",
    "p_female_ad_3 = 0.5 - 0.65\n",
    "p_female_ad_4 = 0.85 - 0.7\n",
    "p_female_ad_5 = 0.7 - 0.75\n",
    "\n",
    "p_female_ad = []\n",
    "p_female_ad.append(p_female_ad_1)\n",
    "p_female_ad.append(p_female_ad_2)\n",
    "p_female_ad.append(p_female_ad_3)\n",
    "p_female_ad.append(p_female_ad_4)\n",
    "p_female_ad.append(p_female_ad_5)"
   ]
  },
  {
   "cell_type": "code",
   "execution_count": null,
   "metadata": {},
   "outputs": [],
   "source": [
    "p_female_cn_1 = 0.85 - 0.8\n",
    "p_female_cn_2 = 0.9 - 0.85\n",
    "p_female_cn_3 = 0.9 - 0.7\n",
    "p_female_cn_4 = 0.9 - 0.85\n",
    "p_female_cn_5 = 0.9 - 0.95\n",
    "\n",
    "p_female_cn = []\n",
    "p_female_cn.append(p_female_cn_1)\n",
    "p_female_cn.append(p_female_cn_2)\n",
    "p_female_cn.append(p_female_cn_3)\n",
    "p_female_cn.append(p_female_cn_4)\n",
    "p_female_cn.append(p_female_cn_5)"
   ]
  },
  {
   "cell_type": "code",
   "execution_count": null,
   "metadata": {},
   "outputs": [],
   "source": [
    "p_male_ad_1 = 1 - 0.8\n",
    "p_male_ad_2 = 0.55 - 0.7\n",
    "p_male_ad_3 = 0.85 - 0.75\n",
    "p_male_ad_4 = 0.85 - 0.7\n",
    "p_male_ad_5 = 0.9 - 0.75\n",
    "\n",
    "p_male_ad = []\n",
    "p_male_ad.append(p_male_ad_1)\n",
    "p_male_ad.append(p_male_ad_2)\n",
    "p_male_ad.append(p_male_ad_3)\n",
    "p_male_ad.append(p_male_ad_4)\n",
    "p_male_ad.append(p_male_ad_5)"
   ]
  },
  {
   "cell_type": "code",
   "execution_count": null,
   "metadata": {},
   "outputs": [],
   "source": [
    "p_male_cn_1 = 0.5 - 0.75\n",
    "p_male_cn_2 = 0.75 - 0.8\n",
    "p_male_cn_3 = 0.8 - 0.9\n",
    "p_male_cn_4 = 0.65 - 0.85\n",
    "p_male_cn_5 = 0.6 - 0.75\n",
    "\n",
    "p_male_cn = []\n",
    "p_male_cn.append(p_male_cn_1)\n",
    "p_male_cn.append(p_male_cn_2)\n",
    "p_male_cn.append(p_male_cn_3)\n",
    "p_male_cn.append(p_male_cn_4)\n",
    "p_male_cn.append(p_male_cn_5)"
   ]
  },
  {
   "cell_type": "code",
   "execution_count": null,
   "metadata": {},
   "outputs": [],
   "source": [
    "p_test = []\n",
    "for p in p_male_cn:\n",
    "    p_test.append(p*-1)\n",
    "p_test"
   ]
  },
  {
   "cell_type": "code",
   "execution_count": null,
   "metadata": {},
   "outputs": [],
   "source": [
    "from scipy.stats import t as t_dist\n",
    "def paired_t_test(p):\n",
    "    p_hat = np.mean(p)\n",
    "    n = len(p)\n",
    "    den = np.sqrt(sum([(diff - p_hat)**2 for diff in p]) / (n - 1))\n",
    "    t = (p_hat * (n**(1/2))) / den\n",
    "    \n",
    "    p_value = t_dist.sf(t, n-1)*2\n",
    "    \n",
    "    return t, p_value"
   ]
  },
  {
   "cell_type": "code",
   "execution_count": null,
   "metadata": {},
   "outputs": [],
   "source": [
    "print(\"Paired t-test Resampled\")\n",
    "t, p = paired_t_test(p_test)\n",
    "print(f\"t statistic: {t}, p-value: {p}\\n\")"
   ]
  }
 ],
 "metadata": {
  "interpreter": {
   "hash": "c59810906e6d7aa3495883ae607e78021713f6d585e5acf2953d8206f84212a4"
  },
  "kernelspec": {
   "display_name": "Python 3.9.10 64-bit",
   "language": "python",
   "name": "python3"
  },
  "language_info": {
   "codemirror_mode": {
    "name": "ipython",
    "version": 3
   },
   "file_extension": ".py",
   "mimetype": "text/x-python",
   "name": "python",
   "nbconvert_exporter": "python",
   "pygments_lexer": "ipython3",
   "version": "3.9.10"
  },
  "orig_nbformat": 4
 },
 "nbformat": 4,
 "nbformat_minor": 2
}
